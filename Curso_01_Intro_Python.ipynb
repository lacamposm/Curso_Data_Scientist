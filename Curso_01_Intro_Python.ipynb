{
  "nbformat": 4,
  "nbformat_minor": 0,
  "metadata": {
    "colab": {
      "name": "Curso_01: Intro_Python.ipynb",
      "provenance": []
    },
    "kernelspec": {
      "display_name": "Python 3",
      "name": "python3"
    }
  },
  "cells": [
    {
      "cell_type": "markdown",
      "metadata": {
        "id": "VbCrdLHRkpGt"
      },
      "source": [
        "\r\n",
        "\r\n",
        "---\r\n",
        "# INTRODUCCIÓN A PYTHON\r\n",
        "\r\n",
        "\r\n",
        "---\r\n",
        "\r\n",
        "\r\n",
        "\r\n"
      ]
    },
    {
      "cell_type": "markdown",
      "metadata": {
        "id": "xx7dtkLLlBN2"
      },
      "source": [
        "## 1. Bases en Python"
      ]
    },
    {
      "cell_type": "markdown",
      "metadata": {
        "id": "i2TRsigjmahB"
      },
      "source": [
        "> a. Hola Python!!!"
      ]
    },
    {
      "cell_type": "code",
      "metadata": {
        "colab": {
          "background_save": true
        },
        "id": "YvykWRYjlHup"
      },
      "source": [
        "print(5 / 8)\r\n",
        "print(7+10)\r\n",
        "print(5 - 5)\r\n",
        "print(3 * 5) ## Multiplicación\r\n",
        "print(18 % 7) ## Proporciona el residuo de la división.\r\n",
        "print(4 ** 2) ## 4 Elevado a la 2\r\n",
        "print(100*1.1**7) ## Primero eleva a la 7"
      ],
      "execution_count": null,
      "outputs": []
    },
    {
      "cell_type": "markdown",
      "metadata": {
        "id": "TDEz9IM8tHia"
      },
      "source": [
        "<table align=\"left\">\r\n",
        "  <td>\r\n",
        "    <a target=\"_blank\" href=\"https://colab.research.google.com/github/lacamposm/handson-ml2/blob/master/01_the_machine_learning_landscape.ipynb\"><img src=\"https://www.tensorflow.org/images/colab_logo_32px.png\" />Run in Google Colab</a>\r\n",
        "  </td>\r\n",
        "</table>"
      ]
    },
    {
      "cell_type": "markdown",
      "metadata": {
        "id": "f9v2vWGWmix3"
      },
      "source": [
        "> b. Variables y tipos."
      ]
    },
    {
      "cell_type": "code",
      "metadata": {
        "id": "Xk7XEB4yli8R"
      },
      "source": [
        "savings = 100 ## Asiganción de una variable.\r\n",
        "print(savings)\r\n",
        "\r\n",
        "savings = 100\r\n",
        "growth_multiplier = 1.1\r\n",
        "result = savings*growth_multiplier**7\r\n",
        "print(result)\r\n",
        "\r\n",
        "desc = \"compound interest\" ## Una cadena de caracteres str.\r\n",
        "profitable = True ## Valor booleano\r\n",
        "\r\n",
        "savings = 100\r\n",
        "growth_multiplier = 1.1\r\n",
        "desc = \"compound interest\"\r\n",
        "year1 = savings*growth_multiplier\r\n",
        "print(type(year1))\r\n",
        "doubledesc = desc+desc ## En los str el +, concatena el str.\r\n",
        "print(doubledesc)"
      ],
      "execution_count": null,
      "outputs": []
    },
    {
      "cell_type": "code",
      "metadata": {
        "id": "VChCGY3ing9K"
      },
      "source": [
        "savings = 100\r\n",
        "result = 100 * 1.10 ** 7\r\n",
        "print(\"I started with $\" + str(savings) + \" and now have $\" + str(result) + \". Awesome!\")\r\n",
        "pi_string = \"3.1415926\"\r\n",
        "pi_float = float(pi_string) ## Combvierte un str en float."
      ],
      "execution_count": null,
      "outputs": []
    },
    {
      "cell_type": "markdown",
      "metadata": {
        "id": "Wt1sgfsgpKbF"
      },
      "source": [
        "\r\n",
        "\r\n",
        "\r\n",
        "## 2. Listas en python\r\n",
        "\r\n",
        "\r\n",
        "\r\n",
        "\r\n",
        "\r\n"
      ]
    },
    {
      "cell_type": "markdown",
      "metadata": {
        "id": "7SfJ4mJxqrt_"
      },
      "source": [
        "> a. Listas en Python."
      ]
    },
    {
      "cell_type": "code",
      "metadata": {
        "id": "Rh9jMec6rCbA"
      },
      "source": [
        "hall = 11.25\r\n",
        "kit = 18.0\r\n",
        "liv = 20.0\r\n",
        "bed = 10.75\r\n",
        "bath = 9.50\r\n",
        "areas = [hall, kit, liv, bed, bath ] ## Las listas se crean con [] y los valores separados por ,\r\n",
        "print(areas)\r\n",
        "\r\n",
        "hall = 11.25\r\n",
        "kit = 18.0\r\n",
        "liv = 20.0\r\n",
        "bed = 10.75\r\n",
        "bath = 9.50\r\n",
        "areas = ['hallway', hall, 'kitchen', kit, \"living room\", liv, 'bedroom',bed, \"bathroom\", bath]\r\n",
        "print(areas)"
      ],
      "execution_count": null,
      "outputs": []
    },
    {
      "cell_type": "code",
      "metadata": {
        "id": "k2AK--ezrJ5z"
      },
      "source": [
        "hall = 11.25\r\n",
        "kit = 18.0\r\n",
        "liv = 20.0\r\n",
        "bed = 10.75\r\n",
        "bath = 9.50\r\n",
        "house = [[\"hallway\", hall],[\"kitchen\", kit],[\"living room\", liv],['bedroom', bed],['bathroom', bath]] ## Lista de listas.\r\n",
        "print(house)\r\n",
        "print(type(house))"
      ],
      "execution_count": null,
      "outputs": []
    },
    {
      "cell_type": "markdown",
      "metadata": {
        "id": "25vi37EarLJl"
      },
      "source": [
        "> b. Subconjuntos de listas en Python."
      ]
    },
    {
      "cell_type": "code",
      "metadata": {
        "id": "NFw6-qb2pPXI"
      },
      "source": [
        "areas = [\"hallway\", 11.25, \"kitchen\", 18.0, \"living room\", 20.0, \"bedroom\", 10.75, \"bathroom\", 9.50]\r\n",
        "print(areas[1]) ## Python cuenta al 0 como primer elemento.\r\n",
        "print(areas[-1]) ## Último elemento.\r\n",
        "print(areas[5])\r\n",
        "\r\n",
        "areas = [\"hallway\", 11.25, \"kitchen\", 18.0, \"living room\", 20.0, \"bedroom\", 10.75, \"bathroom\", 9.50]\r\n",
        "eat_sleep_area = areas[3]+areas[7]\r\n",
        "print(eat_sleep_area)"
      ],
      "execution_count": null,
      "outputs": []
    },
    {
      "cell_type": "code",
      "metadata": {
        "id": "IXOjiDGNp-jR"
      },
      "source": [
        "areas = [\"hallway\", 11.25, \"kitchen\", 18.0, \"living room\", 20.0, \"bedroom\", 10.75, \"bathroom\", 9.50]\r\n",
        "downstairs = areas[:6] ## Nos quedamos con el elemento 0 hasta el 5\r\n",
        "upstairs = areas[-4:] ## Desde el elemento -4 hasta el final de la lista.\r\n",
        "print(downstairs)\r\n",
        "print(upstairs)\r\n",
        "\r\n",
        "areas = [\"hallway\", 11.25, \"kitchen\", 18.0, \"living room\", 20.0, \"bedroom\", 10.75, \"bathroom\", 9.50]\r\n",
        "downstairs = areas[:6]\r\n",
        "upstairs = areas[-4:]"
      ],
      "execution_count": null,
      "outputs": []
    },
    {
      "cell_type": "markdown",
      "metadata": {
        "id": "zh21oGwQrbtW"
      },
      "source": [
        "> c. Manipulando listas."
      ]
    },
    {
      "cell_type": "code",
      "metadata": {
        "colab": {
          "base_uri": "https://localhost:8080/"
        },
        "id": "SKiC9HiBrfht",
        "outputId": "fc935bc5-7f6d-4c22-c1a9-150c247f1ff7"
      },
      "source": [
        "areas = [\"hallway\", 11.25, \"kitchen\", 18.0, \"living room\", 20.0, \"bedroom\", 10.75, \"bathroom\", 9.50]\r\n",
        "areas[-1] = 10.50 ## Reasigna el valor en la posición indicada de la lista.\r\n",
        "areas[4] = 'chill zone'\r\n",
        "\r\n",
        "areas = [\"hallway\", 11.25, \"kitchen\", 18.0, \"chill zone\", 20.0,\"bedroom\", 10.75, \"bathroom\", 10.50]\r\n",
        "areas_1 = areas + [\"poolhouse\", 24.5] ## + Concatena listas.\r\n",
        "areas_2 = areas_1 + ['garage',15.45]\r\n",
        "print(areas_1)"
      ],
      "execution_count": null,
      "outputs": [
        {
          "output_type": "stream",
          "text": [
            "['hallway', 11.25, 'kitchen', 18.0, 'chill zone', 20.0, 'bedroom', 10.75, 'bathroom', 10.5, 'poolhouse', 24.5]\n"
          ],
          "name": "stdout"
        }
      ]
    },
    {
      "cell_type": "code",
      "metadata": {
        "id": "20TlbIJVsTxm"
      },
      "source": [
        "areas = [11.25, 18.0, 20.0, 10.75, 9.50]\r\n",
        "areas_copy = areas[:] # Se crea una copia de areas.\r\n",
        "areas_copy[0] = 5.0\r\n",
        "print(areas)\r\n",
        "print(areas_copy)"
      ],
      "execution_count": null,
      "outputs": []
    },
    {
      "cell_type": "markdown",
      "metadata": {
        "id": "h8QR059rs3zx"
      },
      "source": [
        "## 3. Funciones y paquetes."
      ]
    },
    {
      "cell_type": "markdown",
      "metadata": {
        "id": "EB9Gzt6CwV05"
      },
      "source": [
        "> a. Funciones."
      ]
    },
    {
      "cell_type": "code",
      "metadata": {
        "id": "1Vj6hegcssS5"
      },
      "source": [
        "var1 = [1, 2, 3, 4]\r\n",
        "var2 = True\r\n",
        "print(type(var1))\r\n",
        "print(len(var1)) ## len(), es la longitud de la lista.\r\n",
        "out2 = int(var2)\r\n",
        "\r\n",
        "first = [11.25, 18.0, 20.0]\r\n",
        "second = [10.75, 9.50]\r\n",
        "full = first + second\r\n",
        "full_sorted = sorted(full, reverse = True) ## sorted con reverse True devuelve la lista ordenada al revés\r\n",
        "print(full_sorted)"
      ],
      "execution_count": null,
      "outputs": []
    },
    {
      "cell_type": "markdown",
      "metadata": {
        "id": "jZign_igtt61"
      },
      "source": [
        "> b. Metodos"
      ]
    },
    {
      "cell_type": "code",
      "metadata": {
        "id": "l_hHaOa5txJ0"
      },
      "source": [
        "place = \"poolhouse\"\r\n",
        "place_up = place.upper() ## .upper() vuelve el str a mayúsculas\r\n",
        "print(place)\r\n",
        "print(place_up)\r\n",
        "print(place.count('o')) ## .count('o') cuenta la cantidad de o's en el str."
      ],
      "execution_count": null,
      "outputs": []
    },
    {
      "cell_type": "code",
      "metadata": {
        "id": "LM3aRYncuQNZ"
      },
      "source": [
        "areas = [11.25, 18.0, 20.0, 10.75, 9.50]\r\n",
        "print(areas.index(20.0)) ## Da el índice del valor\r\n",
        "print(areas.count(9.50)) ## Cuenta cuantas veces está el valor en la lista.\r\n",
        "\r\n",
        "areas = [11.25, 18.0, 20.0, 10.75, 9.50]\r\n",
        "areas.append(24.5) ## .append() pega un valor a la lista. \r\n",
        "areas.append(15.45)\r\n",
        "print(areas)\r\n",
        "areas.reverse() ## Voltea la lista.\r\n",
        "print(areas)\r\n",
        "areas_ordenada = sorted(areas) ## Ordena de la lista de forma ascendente\r\n",
        "print(areas_ordenada)"
      ],
      "execution_count": null,
      "outputs": []
    },
    {
      "cell_type": "markdown",
      "metadata": {
        "id": "gm7zUO6vvJS_"
      },
      "source": [
        "> c. Paquetes"
      ]
    },
    {
      "cell_type": "code",
      "metadata": {
        "id": "HBBDnweWuznc"
      },
      "source": [
        "r = 0.43\r\n",
        "import math ## import es la palabra clave, y math es el paquete.\r\n",
        "C = 2*math.pi*r\r\n",
        "A = math.pi*r**2\r\n",
        "print(\"Circumference: \" + str(C))\r\n",
        "print(\"Area: \" + str(A))\r\n",
        "\r\n",
        "r = 192500\r\n",
        "from math import radians ## podemos importar solo algunas funciones de los paquetes\r\n",
        "dist = r*radians(12)\r\n",
        "print(dist)"
      ],
      "execution_count": null,
      "outputs": []
    },
    {
      "cell_type": "markdown",
      "metadata": {
        "id": "1OPpew0aWh8p"
      },
      "source": [
        "## 4. NumPY"
      ]
    },
    {
      "cell_type": "markdown",
      "metadata": {
        "id": "wqkbONRKtNcl"
      },
      "source": [
        "> a. NumPY"
      ]
    },
    {
      "cell_type": "code",
      "metadata": {
        "id": "tnSuzpIqWpxE"
      },
      "source": [
        "from google.colab import drive\r\n",
        "drive.mount('/content/drive')"
      ],
      "execution_count": null,
      "outputs": []
    },
    {
      "cell_type": "code",
      "metadata": {
        "colab": {
          "base_uri": "https://localhost:8080/"
        },
        "id": "ngstQfDGd_72",
        "outputId": "2d54feca-26a7-455d-e836-d433b1b1b76f"
      },
      "source": [
        "cd  /content/drive/MyDrive/Colab_Proyectos/Datas_DataCamp/Curso 01: Intro_Python"
      ],
      "execution_count": null,
      "outputs": [
        {
          "output_type": "stream",
          "text": [
            "/content/drive/MyDrive/Colab_Proyectos/Datas_DataCamp/Curso 01: Intro_Python\n"
          ],
          "name": "stdout"
        }
      ]
    },
    {
      "cell_type": "code",
      "metadata": {
        "id": "LZN3s2R0XHW7"
      },
      "source": [
        "############### LECTURA DE LISTAS ############### \r\n",
        "import pandas as pd\r\n",
        "height_in = pd.read_table('height_in.txt', usecols=[0], sep = ',',header = None, dtype=float) ## Leer la lista\r\n",
        "np_height_in = np.array(height_in[0].values)\r\n",
        "weight_lb = pd.read_table('weight_lb.txt', sep = ',',header = None, dtype=float) ## Leer la lista\r\n",
        "np_weight_kg = weight_lb.iloc[0,:].values\r\n",
        "#################################################"
      ],
      "execution_count": null,
      "outputs": []
    },
    {
      "cell_type": "code",
      "metadata": {
        "id": "bfoEfLECeCq-"
      },
      "source": [
        "import numpy as np\r\n",
        "\r\n",
        "baseball = [180, 215, 210, 210, 188, 176, 209, 200]\r\n",
        "np_baseball = np.array(baseball) ## Creamos un array.\r\n",
        "print(type(np_baseball))\r\n",
        "\r\n",
        "print(np_height_in)\r\n",
        "np_height_m = np_height_in*0.0254 ## Lo convierte en metros.\r\n",
        "np_weight_kg = np.array(weight_lb)*0.453592 ## Peso en kg\r\n",
        "bmi = np_weight_kg/np_height_m**2  ## Indice de masa corporal\r\n",
        "print(bmi)"
      ],
      "execution_count": null,
      "outputs": []
    },
    {
      "cell_type": "code",
      "metadata": {
        "id": "T0rZOtTOrhl9"
      },
      "source": [
        "np_height_m = np.array(height_in) * 0.0254\r\n",
        "np_weight_kg = np.array(weight_lb) * 0.453592\r\n",
        "bmi = np_weight_kg / np_height_m ** 2\r\n",
        "\r\n",
        "light = bmi<21 ## Valores Booleanos de la lista, si cumple TRUE si no FALSE\r\n",
        "print(light)\r\n",
        "print(bmi[light]) ## Obtiene todos aquellos que resultaron TRUE"
      ],
      "execution_count": null,
      "outputs": []
    },
    {
      "cell_type": "code",
      "metadata": {
        "id": "HzSrKHixsUbU"
      },
      "source": [
        "np_weight_lb = np.array(weight_lb)\r\n",
        "np_height_in = np.array(height_in)\r\n",
        "print(np_weight_lb[50]) ## Da el valor del índice 50\r\n",
        "print(np_height_in[100:111]) ## Valores de los índices del 100 al 110"
      ],
      "execution_count": null,
      "outputs": []
    },
    {
      "cell_type": "markdown",
      "metadata": {
        "id": "cDIC96gatAs1"
      },
      "source": [
        "> b. Arrays 2D Numpy\r\n"
      ]
    },
    {
      "cell_type": "code",
      "metadata": {
        "colab": {
          "base_uri": "https://localhost:8080/"
        },
        "id": "lV4J23D7tITb",
        "outputId": "45e99106-deec-49bf-e22e-e2ff333fdebf"
      },
      "source": [
        "baseball = [[180, 78.4],[215, 102.7], [210, 98.5], [188, 75.2]] ## Lista de listas\r\n",
        "np_baseball = np.array(baseball) ## Array 2D, cada lista es una fila.\r\n",
        "print(type(np_baseball))\r\n",
        "print(np_baseball.shape)"
      ],
      "execution_count": null,
      "outputs": [
        {
          "output_type": "stream",
          "text": [
            "<class 'numpy.ndarray'>\n",
            "(4, 2)\n"
          ],
          "name": "stdout"
        }
      ]
    },
    {
      "cell_type": "code",
      "metadata": {
        "id": "ZzESYFm4Xhhm"
      },
      "source": [
        "############### LECTURA DE LISTAS ############### \r\n",
        "baseball = pd.read_csv('https://assets.datacamp.com/production/repositories/288/datasets/e5d60ff535f86d27609312f9e41c35a1d737ddc0/baseball.csv',\r\n",
        "                       usecols= ['Height','Weight']).values\r\n",
        "#################################################                       \r\n"
      ],
      "execution_count": null,
      "outputs": []
    },
    {
      "cell_type": "code",
      "metadata": {
        "id": "pYm25rBxtxwv"
      },
      "source": [
        "np_baseball = np.array(baseball)\r\n",
        "print(np_baseball.shape)\r\n",
        "\r\n",
        "print(np_baseball[:50,:]) ## Imprime las primeras 50 filas y todas las columnas.\r\n",
        "np_weight_lb = np_baseball[:,1] # Toma todas las filas y la segunda columna.\r\n",
        "print(np_baseball[123,0]) # Peso del jugador 124."
      ],
      "execution_count": null,
      "outputs": []
    },
    {
      "cell_type": "code",
      "metadata": {
        "id": "vz0irdJayBFB"
      },
      "source": [
        "######## IMPORTAMOS LOS DATOS NECESARIOS ###############\r\n",
        "import pandas as pd\r\n",
        "data = pd.read_table('updated.txt',header=None, sep=',',usecols=[1,2,3])\r\n",
        "updated = data.values\r\n",
        "data1 = pd.read_table('baseball.txt',header=None, sep=',',usecols=[1,2,3])\r\n",
        "baseball = [list(i) for i in  data1.values]\r\n",
        "#########################################################"
      ],
      "execution_count": null,
      "outputs": []
    },
    {
      "cell_type": "code",
      "metadata": {
        "id": "iuK1oEGQMnag"
      },
      "source": [
        "# baseball es una lista de listas.\r\n",
        "# updated es un 2D array de numpy\r\n",
        "np_baseball = np.array(baseball) ## 3 Columnas.\r\n",
        "print(np_baseball+updated) ## Suma de matrices.\r\n",
        "conversion = np.array([0.0254,0.453592,1]) ## Conversión\r\n",
        "print(np_baseball*conversion)"
      ],
      "execution_count": null,
      "outputs": []
    },
    {
      "cell_type": "markdown",
      "metadata": {
        "id": "ai5VXRsLyqBj"
      },
      "source": [
        "> c. Numpy: estadísticas básicas"
      ]
    },
    {
      "cell_type": "code",
      "metadata": {
        "id": "0NHD9E-hxoSm"
      },
      "source": [
        "np_height_in = np.array(np_baseball[:,0])\r\n",
        "print(np.mean(np_height_in))\r\n",
        "print(np.median(np_height_in))\r\n",
        "\r\n",
        "avg = np.mean(np_baseball[:,0])\r\n",
        "print(\"Average: \" + str(avg))\r\n",
        "med =  np.median(np_baseball[:,0])\r\n",
        "print(\"Median: \" + str(med))\r\n",
        "stddev =  np.std(np_baseball[:,0])\r\n",
        "print(\"Standard Deviation: \" + str(stddev))\r\n",
        "corr =  np.corrcoef(np_baseball[:,0],np_baseball[:,1])\r\n",
        "print(\"Correlation: \" + str(corr))"
      ],
      "execution_count": null,
      "outputs": []
    },
    {
      "cell_type": "code",
      "metadata": {
        "id": "0uqTpuQ6X-Qp"
      },
      "source": [
        "######## IMPORTAMOS LOS DATOS NECESARIOS ###############\r\n",
        "df = pd.read_csv('https://assets.datacamp.com/production/repositories/288/datasets/026a5211b906ac118a09b1a0dbf7df48faafb379/fifa.csv')\r\n",
        "positions= [i for i in df[' position'].values]\r\n",
        "heights = [i for i in df[' height'].values]\r\n",
        "#########################################################"
      ],
      "execution_count": null,
      "outputs": []
    },
    {
      "cell_type": "code",
      "metadata": {
        "colab": {
          "background_save": true,
          "base_uri": "https://localhost:8080/"
        },
        "id": "nmDI0NAczt49",
        "outputId": "05431cb4-f9db-4b06-a502-181d14325c15"
      },
      "source": [
        "np_positions = np.array(positions)\r\n",
        "np_heights = np.array(heights)\r\n",
        "gk_heights = np_heights[np_positions == ' GK']\r\n",
        "other_heights = np_heights[np_positions != ' GK']\r\n",
        "print(\"Median height of goalkeepers: \" + str(np.median(gk_heights)))\r\n",
        "print(\"Median height of other players: \" + str(np.median(other_heights)))"
      ],
      "execution_count": null,
      "outputs": [
        {
          "output_type": "stream",
          "text": [
            "Median height of goalkeepers: 188.0\n",
            "Median height of other players: 181.0\n"
          ],
          "name": "stdout"
        }
      ]
    },
    {
      "cell_type": "markdown",
      "metadata": {
        "id": "pR9VWeSDVEY4"
      },
      "source": [
        "\r\n",
        "\r\n",
        "---\r\n",
        "# FIN\r\n",
        "\r\n",
        "\r\n",
        "---\r\n",
        "\r\n",
        "\r\n"
      ]
    }
  ]
}